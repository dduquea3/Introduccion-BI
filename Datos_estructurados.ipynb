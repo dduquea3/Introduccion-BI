{
  "nbformat": 4,
  "nbformat_minor": 0,
  "metadata": {
    "colab": {
      "provenance": [],
      "include_colab_link": true
    },
    "kernelspec": {
      "name": "python3",
      "display_name": "Python 3"
    },
    "language_info": {
      "name": "python"
    }
  },
  "cells": [
    {
      "cell_type": "markdown",
      "metadata": {
        "id": "view-in-github",
        "colab_type": "text"
      },
      "source": [
        "<a href=\"https://colab.research.google.com/github/dduquea3/Introduccion-BI/blob/main/Datos_estructurados.ipynb\" target=\"_parent\"><img src=\"https://colab.research.google.com/assets/colab-badge.svg\" alt=\"Open In Colab\"/></a>"
      ]
    },
    {
      "cell_type": "markdown",
      "source": [
        "# Datos estructurados\n",
        "\n",
        "En lo que respecta a los datos estructurados, iniciaremos con la lectura de archivos en formato excel."
      ],
      "metadata": {
        "id": "EG3tw_gwvrRb"
      }
    },
    {
      "cell_type": "code",
      "execution_count": null,
      "metadata": {
        "id": "orQWvzetvji6"
      },
      "outputs": [],
      "source": []
    }
  ]
}